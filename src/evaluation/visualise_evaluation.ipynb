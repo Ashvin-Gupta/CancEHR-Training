{
 "cells": [
  {
   "cell_type": "code",
   "execution_count": 66,
   "id": "cc32ec8d",
   "metadata": {},
   "outputs": [
    {
     "name": "stdout",
     "output_type": "stream",
     "text": [
      "<class 'pandas.core.frame.DataFrame'>\n",
      "RangeIndex: 29274 entries, 0 to 29273\n",
      "Data columns (total 6 columns):\n",
      " #   Column        Non-Null Count  Dtype  \n",
      "---  ------        --------------  -----  \n",
      " 0   subject_id    29274 non-null  int64  \n",
      " 1   index         29274 non-null  int64  \n",
      " 2   input_tokens  29274 non-null  object \n",
      " 3   target_token  29274 non-null  int64  \n",
      " 4   prediction    29274 non-null  int64  \n",
      " 5   loss          29274 non-null  float64\n",
      "dtypes: float64(1), int64(4), object(1)\n",
      "memory usage: 1.3+ MB\n"
     ]
    }
   ],
   "source": [
    "import pandas as pd\n",
    "\n",
    "experiment_name = 'quantile_bin_init3'\n",
    "\n",
    "vocab_df = pd.read_csv('/home/joshua/data/mimic_meds/mimic_iv_meds/tokenized_data/quantile_bin_preprocessing_full/vocab.csv', index_col=False)\n",
    "\n",
    "df = pd.read_csv(f'../experiments/results/{experiment_name}/evaluation_results.csv', index_col=False)\n",
    "\n",
    "vocab_df.head()\n",
    "df.info()"
   ]
  },
  {
   "cell_type": "code",
   "execution_count": 160,
   "id": "3d36fcbf",
   "metadata": {},
   "outputs": [
    {
     "name": "stdout",
     "output_type": "stream",
     "text": [
      "<event> LAB//51074//UNK <text> NEG </text> </event> <event> LAB//51075//UNK <text> NEG </text> </event> <event> LAB//51078//mEq/L <numeric>\n",
      "14 Q1\n",
      "15 Q3\n",
      "2.5245518684387207\n"
     ]
    }
   ],
   "source": [
    "index = 6348\n",
    "\n",
    "row = df.iloc[index]\n",
    "token_strings = \" \".join([vocab_df.iloc[token]['str'] for token in eval(row['input_tokens'])[-15:]])\n",
    "\n",
    "print(token_strings)\n",
    "print(row['target_token'], vocab_df.iloc[row['target_token']]['str'])\n",
    "print(row['prediction'], vocab_df.iloc[row['prediction']]['str'])\n",
    "print(row['loss'])"
   ]
  },
  {
   "cell_type": "code",
   "execution_count": null,
   "id": "1a515d54",
   "metadata": {},
   "outputs": [],
   "source": []
  }
 ],
 "metadata": {
  "kernelspec": {
   "display_name": ".venv",
   "language": "python",
   "name": "python3"
  },
  "language_info": {
   "codemirror_mode": {
    "name": "ipython",
    "version": 3
   },
   "file_extension": ".py",
   "mimetype": "text/x-python",
   "name": "python",
   "nbconvert_exporter": "python",
   "pygments_lexer": "ipython3",
   "version": "3.11.2"
  }
 },
 "nbformat": 4,
 "nbformat_minor": 5
}
